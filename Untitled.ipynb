{
 "cells": [
  {
   "cell_type": "code",
   "execution_count": null,
   "id": "f360e55e-e613-45e1-9bdb-988e628aaf45",
   "metadata": {},
   "outputs": [],
   "source": [
    "df_test_view = df_cobtest[df_cobtest['event']=='offer viewed']\n",
    "df_test_view1 = df_test_view[df_test_view['person']=='78afa995795e4d85b5d9ceeca43f5fef']\n",
    "df_test_view2 = df_test_view[df_test_view['person']=='a03223e636434f42ac4c3df47e8bac43']\n",
    "df_test_viewcob = pd.concat([df_test_view1,df_test_view2])\n",
    "#df_test_viewcob['end_time'] = (df_test_viewcob['time'] + df_test_viewcob['duration']*24)\n",
    "#df_test_viewcob\n",
    "df_test_viewcob1 = df_test_viewcob[['person','event','time','offer_name']]\n",
    "df_test_1cob = pd.merge(df_test_revcob,df_test_viewcob1, on=['person','offer_name'], how = 'left')\n",
    "df_test_1cob = df_test_1cob[(df_test_1cob['time_y'] >= df_test_1cob['time_x']) & (df_test_1cob['time_y'] <= df_test_1cob['end_time'])]\n",
    "# here 'person' + 'time'(time_x receive_time) + offer_name is the unique key and can be used to merge to receive table\n",
    "\n",
    "df_test_1cob = df_test_1cob[['person','time_x','offer_name','event_y']]\n",
    "df_test_1cob.rename(columns={'time_x': 'time'}, inplace=True)\n",
    "\n",
    "df_test_12cob = pd.merge(df_test_revcob,df_test_1cob, on=['person','time','offer_name'], how = 'left')\n",
    "\n",
    "df_test_12cob"
   ]
  }
 ],
 "metadata": {
  "kernelspec": {
   "display_name": "Python 3 (ipykernel)",
   "language": "python",
   "name": "python3"
  },
  "language_info": {
   "codemirror_mode": {
    "name": "ipython",
    "version": 3
   },
   "file_extension": ".py",
   "mimetype": "text/x-python",
   "name": "python",
   "nbconvert_exporter": "python",
   "pygments_lexer": "ipython3",
   "version": "3.11.7"
  }
 },
 "nbformat": 4,
 "nbformat_minor": 5
}
